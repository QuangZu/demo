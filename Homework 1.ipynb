{
 "cells": [
  {
   "cell_type": "code",
   "execution_count": 1,
   "metadata": {},
   "outputs": [
    {
     "name": "stdout",
     "output_type": "stream",
     "text": [
      "Your number is 6\n"
     ]
    }
   ],
   "source": [
    "#Exercise 2\n",
    "customers = ['Alice', 'Bob', 'Charlie', 'Dave', 'Eve', 'Mike', 'John']\n",
    "tickets = [15, 23, 7, 12, 6, 10, 20]\n",
    "found_pos = -1\n",
    "name = input('Enter name: ')\n",
    "for i in range(len(customers)):\n",
    "    if customers[i] == name:\n",
    "        print(f'Your number is {tickets[i]}')\n"
   ]
  },
  {
   "cell_type": "code",
   "execution_count": 4,
   "metadata": {},
   "outputs": [
    {
     "name": "stdout",
     "output_type": "stream",
     "text": [
      "Customer that bought the most number of tickets is Bob: 23\n"
     ]
    }
   ],
   "source": [
    "m = tickets[0]\n",
    "max_pos = 0\n",
    "for i in range(1, len(tickets)):\n",
    "    if tickets[i] > m:\n",
    "        m = tickets[i]\n",
    "        max_pos = i\n",
    "print(f'Customer that bought the most number of tickets is {customers[max_pos]}: {tickets[max_pos]}')"
   ]
  },
  {
   "cell_type": "code",
   "execution_count": 13,
   "metadata": {},
   "outputs": [
    {
     "name": "stdout",
     "output_type": "stream",
     "text": [
      "Average number of tickets is: 13.285714285714286\n",
      "Number of customers that number of tickets they bought are greater than the average number of tickets: 3\n"
     ]
    }
   ],
   "source": [
    "count = 0\n",
    "a = 0\n",
    "for i in tickets:\n",
    "  a += i\n",
    "avg = a / len(tickets)\n",
    "for j in tickets:\n",
    "  if j > avg:\n",
    "    count += 1\n",
    "print(f'Average number of tickets is: {avg}')\n",
    "print(f'Number of customers that number of tickets they bought are greater than the average number of tickets: {count}')"
   ]
  },
  {
   "cell_type": "code",
   "execution_count": 31,
   "metadata": {},
   "outputs": [
    {
     "name": "stdout",
     "output_type": "stream",
     "text": [
      "34 c = 93.2 F\n"
     ]
    }
   ],
   "source": [
    "#Exercise 1\n",
    "temp = int(input('Enter temperature: '))\n",
    "unit = input('Enter unit of temperature: ')\n",
    "def convert_temperature(temp, unit):\n",
    "    if unit == 'C':\n",
    "        f = temp * (9/5) + 32\n",
    "        return f\n",
    "    elif unit == 'F':\n",
    "        c = (temp - 32) * (5/9)\n",
    "        return c\n",
    "    else:\n",
    "        return 'Error 404'\n",
    "if unit == 'c':\n",
    "    unit_2 = 'F'\n",
    "else:\n",
    "    unit_2 = 'C'\n",
    "n = convert_temperature(temp, unit)\n",
    "print(f'{temp} {unit} = {n} {unit_2}')"
   ]
  }
 ],
 "metadata": {
  "kernelspec": {
   "display_name": "Python 3",
   "language": "python",
   "name": "python3"
  },
  "language_info": {
   "codemirror_mode": {
    "name": "ipython",
    "version": 3
   },
   "file_extension": ".py",
   "mimetype": "text/x-python",
   "name": "python",
   "nbconvert_exporter": "python",
   "pygments_lexer": "ipython3",
   "version": "3.11.5"
  }
 },
 "nbformat": 4,
 "nbformat_minor": 2
}
