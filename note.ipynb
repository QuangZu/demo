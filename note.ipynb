{
 "cells": [
  {
   "cell_type": "code",
   "execution_count": 5,
   "metadata": {},
   "outputs": [
    {
     "name": "stdout",
     "output_type": "stream",
     "text": [
      "* * * * * \n",
      "? ? ? ? ? ? ? ? ? ? "
     ]
    }
   ],
   "source": [
    "def print_line(n, c):\n",
    "    for i in range(n):\n",
    "        print(c, end=' ')\n",
    "print_line(5, '*')\n",
    "print()\n",
    "print_line(10,'?')"
   ]
  },
  {
   "cell_type": "code",
   "execution_count": 6,
   "metadata": {},
   "outputs": [
    {
     "name": "stdout",
     "output_type": "stream",
     "text": [
      "* * * * \n",
      "* * * \n",
      "* * \n",
      "* \n"
     ]
    }
   ],
   "source": [
    "n = int(input('Enter number of rows: '))\n",
    "c = input('Enter character: ')\n",
    "for i in range(n):\n",
    "    print_line(n-i, c)\n",
    "    print()"
   ]
  },
  {
   "cell_type": "code",
   "execution_count": null,
   "metadata": {},
   "outputs": [],
   "source": [
    "def double(a):\n",
    "    return a * 2"
   ]
  },
  {
   "cell_type": "code",
   "execution_count": null,
   "metadata": {},
   "outputs": [],
   "source": [
    "print(double(10))\n",
    "a = double(20)\n",
    "print(a)\n",
    "a = 10\n",
    "b = 5\n",
    "c = double(a) + double(b)\n",
    "print(c)\n",
    "print_line(double(5),'*')\n",
    "print(double(double(double(5))))"
   ]
  },
  {
   "cell_type": "code",
   "execution_count": 12,
   "metadata": {},
   "outputs": [
    {
     "name": "stdout",
     "output_type": "stream",
     "text": [
      "Math = 7, English = 8, Physical = 6\n",
      "Average = 7.0\n"
     ]
    }
   ],
   "source": [
    "a = int(input('Enter math grade: '))\n",
    "b = int(input('Enter english grade: '))\n",
    "c = int(input('Enter physical grade: '))\n",
    "def avg_grades(a, b, c):\n",
    "    return (a + b + c)/3\n",
    "avg = avg_grades(a, b, c)\n",
    "print(f'Math = {a}, English = {b}, Physical = {c}')\n",
    "print(f'Average = {avg}')"
   ]
  },
  {
   "cell_type": "code",
   "execution_count": 13,
   "metadata": {},
   "outputs": [
    {
     "name": "stdout",
     "output_type": "stream",
     "text": [
      "10\n"
     ]
    },
    {
     "ename": "ValueError",
     "evalue": "invalid literal for int() with base 10: ''",
     "output_type": "error",
     "traceback": [
      "\u001b[1;31m---------------------------------------------------------------------------\u001b[0m",
      "\u001b[1;31mValueError\u001b[0m                                Traceback (most recent call last)",
      "\u001b[1;32mc:\\Users\\PC\\Desktop\\Python HW\\note.ipynb Cell 6\u001b[0m line \u001b[0;36m7\n\u001b[0;32m      <a href='vscode-notebook-cell:/c%3A/Users/PC/Desktop/Python%20HW/note.ipynb#W5sZmlsZQ%3D%3D?line=4'>5</a>\u001b[0m     \u001b[39mreturn\u001b[39;00m s\n\u001b[0;32m      <a href='vscode-notebook-cell:/c%3A/Users/PC/Desktop/Python%20HW/note.ipynb#W5sZmlsZQ%3D%3D?line=5'>6</a>\u001b[0m \u001b[39mprint\u001b[39m(my_sum(\u001b[39m10\u001b[39m))\n\u001b[1;32m----> <a href='vscode-notebook-cell:/c%3A/Users/PC/Desktop/Python%20HW/note.ipynb#W5sZmlsZQ%3D%3D?line=6'>7</a>\u001b[0m n \u001b[39m=\u001b[39m \u001b[39mint\u001b[39;49m(\u001b[39minput\u001b[39;49m(\u001b[39m'\u001b[39;49m\u001b[39mEnter n: \u001b[39;49m\u001b[39m'\u001b[39;49m))\n\u001b[0;32m      <a href='vscode-notebook-cell:/c%3A/Users/PC/Desktop/Python%20HW/note.ipynb#W5sZmlsZQ%3D%3D?line=7'>8</a>\u001b[0m s \u001b[39m=\u001b[39m my_sum(n)\n\u001b[0;32m      <a href='vscode-notebook-cell:/c%3A/Users/PC/Desktop/Python%20HW/note.ipynb#W5sZmlsZQ%3D%3D?line=8'>9</a>\u001b[0m \u001b[39mprint\u001b[39m(\u001b[39mf\u001b[39m\u001b[39m'\u001b[39m\u001b[39mSum from 1 to \u001b[39m\u001b[39m{\u001b[39;00mn\u001b[39m}\u001b[39;00m\u001b[39m is \u001b[39m\u001b[39m{\u001b[39;00ms\u001b[39m}\u001b[39;00m\u001b[39m'\u001b[39m)\n",
      "\u001b[1;31mValueError\u001b[0m: invalid literal for int() with base 10: ''"
     ]
    }
   ],
   "source": [
    "def my_sum(n):\n",
    "    s = 0\n",
    "    for i in range(1, n+1):\n",
    "        s +=1\n",
    "    return s\n",
    "print(my_sum(10))\n",
    "n = int(input('Enter n: '))\n",
    "s = my_sum(n)\n",
    "print(f'Sum from 1 to {n} is {s}')"
   ]
  },
  {
   "cell_type": "code",
   "execution_count": 15,
   "metadata": {},
   "outputs": [
    {
     "name": "stdout",
     "output_type": "stream",
     "text": [
      "Bill for nam: \n",
      "Payment for 6.0: \n",
      "Tax for 0.6: \n",
      "Final payment 6.6: \n"
     ]
    }
   ],
   "source": [
    "def print_bill(customer, payment):\n",
    "    tax = payment / 10\n",
    "    final_payment = payment + tax\n",
    "    print(f'Bill for {customer}: ')\n",
    "    print(f'Payment: {payment}')\n",
    "    print(f'Tax: {tax}')\n",
    "    print(f'Final payment: {final_payment}')\n",
    "customer = input('Enter customer name: ')\n",
    "payment = float(input('Enter payment: '))\n",
    "print_bill(customer, payment)"
   ]
  }
 ],
 "metadata": {
  "kernelspec": {
   "display_name": "Python 3",
   "language": "python",
   "name": "python3"
  },
  "language_info": {
   "codemirror_mode": {
    "name": "ipython",
    "version": 3
   },
   "file_extension": ".py",
   "mimetype": "text/x-python",
   "name": "python",
   "nbconvert_exporter": "python",
   "pygments_lexer": "ipython3",
   "version": "3.11.5"
  }
 },
 "nbformat": 4,
 "nbformat_minor": 2
}
