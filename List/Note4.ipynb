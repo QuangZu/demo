{
 "cells": [
  {
   "cell_type": "code",
   "execution_count": null,
   "metadata": {},
   "outputs": [],
   "source": [
    "try:\n",
    "    a = int(input('Enter a: '))\n",
    "    b = int(input('Enter b: '))\n",
    "    c = a / b\n",
    "    print(f'{a} / {b} = {c}')\n",
    "except ValueError:\n",
    "    print('Please enter number! ')\n",
    "except ZeroDivisionError:\n",
    "    print('Cannot divide by zero! Please enter b != 0')"
   ]
  },
  {
   "cell_type": "code",
   "execution_count": 3,
   "metadata": {},
   "outputs": [
    {
     "name": "stdout",
     "output_type": "stream",
     "text": [
      "Index out of range! Please enter i and j in range [0, 6]\n"
     ]
    }
   ],
   "source": [
    "try:\n",
    "    numbers = [9, 8, 0, 10, 3, 7, 4]\n",
    "    i = int(input('Enter i: '))\n",
    "    j = int(input('Enter i: '))\n",
    "    print(f'{numbers[i]} / {numbers[j]} = {numbers[i] / numbers[j]}')\n",
    "\n",
    "except IndexError:\n",
    "    print('Index out of range! Please enter i and j in range [0, 6]')\n",
    "except ValueError:\n",
    "    print('Please enter number! ')\n",
    "except ZeroDivisionError:\n",
    "    print('Cannot divide by zero! Please enter b != 0')\n"
   ]
  },
  {
   "cell_type": "code",
   "execution_count": null,
   "metadata": {},
   "outputs": [],
   "source": [
    "def print_triangle(n):\n",
    "    if n == 0:\n",
    "        return\n",
    "    print('*' * n)\n",
    "    print_triangle(n-1)"
   ]
  },
  {
   "cell_type": "code",
   "execution_count": null,
   "metadata": {},
   "outputs": [],
   "source": [
    "print_triangle(5)"
   ]
  },
  {
   "cell_type": "code",
   "execution_count": 4,
   "metadata": {},
   "outputs": [
    {
     "name": "stdout",
     "output_type": "stream",
     "text": [
      "* \n",
      "* * \n",
      "* * * \n",
      "* * * * \n",
      "* * * * * \n"
     ]
    }
   ],
   "source": [
    "def print_triangle(k, n):\n",
    "    if k > n:\n",
    "        return\n",
    "    print('* ' * k)\n",
    "    print_triangle(k + 1, n)\n",
    "\n",
    "print_triangle(1, 5)"
   ]
  },
  {
   "cell_type": "code",
   "execution_count": 9,
   "metadata": {},
   "outputs": [],
   "source": [
    "def sum(n):\n",
    "    if n < 0:\n",
    "        return 0\n",
    "    return n + sum(n - 1)"
   ]
  },
  {
   "cell_type": "code",
   "execution_count": 10,
   "metadata": {},
   "outputs": [
    {
     "name": "stdout",
     "output_type": "stream",
     "text": [
      "Sum from 1 to 12: 78\n"
     ]
    }
   ],
   "source": [
    "n = int(input('Enter a number: '))\n",
    "print(f'Sum from 1 to {n}:', sum(n))"
   ]
  },
  {
   "cell_type": "code",
   "execution_count": 15,
   "metadata": {},
   "outputs": [
    {
     "name": "stdout",
     "output_type": "stream",
     "text": [
      "6! = 720\n"
     ]
    }
   ],
   "source": [
    "def factorial(n):\n",
    "    if n < 1:\n",
    "        return 1\n",
    "    return factorial(n - 1) * n\n",
    "\n",
    "n = int(input('Enter a number: '))\n",
    "print(f'{n}! = {factorial(n)}')"
   ]
  },
  {
   "cell_type": "code",
   "execution_count": 18,
   "metadata": {},
   "outputs": [
    {
     "name": "stdout",
     "output_type": "stream",
     "text": [
      "8 = 34\n"
     ]
    }
   ],
   "source": [
    "def fibonacci(n):\n",
    "    if n < 0:\n",
    "        raise ValueError('n must be non-negative')\n",
    "    if n == 0 or n == 1:\n",
    "        return 1\n",
    "    return fibonacci(n - 1) + fibonacci(n - 2)\n",
    "\n",
    "n = int(input('Enter a number: '))\n",
    "print(f'{n} = {fibonacci(n)}')"
   ]
  },
  {
   "cell_type": "code",
   "execution_count": 22,
   "metadata": {},
   "outputs": [],
   "source": [
    "import os\n",
    "\n",
    "def listing_file(path):\n",
    "    file_name = path.split('/')[-1]\n",
    "    print(file_name)\n",
    "    if os.path.isdir(path):\n",
    "        for f in os.listdir(path):\n",
    "            listing_file(path + '/' + f)"
   ]
  },
  {
   "cell_type": "code",
   "execution_count": 34,
   "metadata": {},
   "outputs": [
    {
     "name": "stdout",
     "output_type": "stream",
     "text": [
      "The value of n = 8\n"
     ]
    },
    {
     "ename": "",
     "evalue": "",
     "output_type": "error",
     "traceback": [
      "\u001b[1;31mThe Kernel crashed while executing code in the the current cell or a previous cell. Please review the code in the cell(s) to identify a possible cause of the failure. Click <a href='https://aka.ms/vscodeJupyterKernelCrash'>here</a> for more info. View Jupyter <a href='command:jupyter.viewOutput'>log</a> for further details."
     ]
    }
   ],
   "source": [
    "n = 2 \n",
    "for i in range(2, 0, -1): \n",
    "    n = n + n \n",
    "print(f\"The value of n = {n}\")\n"
   ]
  }
 ],
 "metadata": {
  "kernelspec": {
   "display_name": "Python 3",
   "language": "python",
   "name": "python3"
  },
  "language_info": {
   "codemirror_mode": {
    "name": "ipython",
    "version": 3
   },
   "file_extension": ".py",
   "mimetype": "text/x-python",
   "name": "python",
   "nbconvert_exporter": "python",
   "pygments_lexer": "ipython3",
   "version": "3.11.5"
  }
 },
 "nbformat": 4,
 "nbformat_minor": 2
}
