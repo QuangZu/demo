{
 "cells": [
  {
   "cell_type": "code",
   "execution_count": 14,
   "metadata": {},
   "outputs": [
    {
     "name": "stdout",
     "output_type": "stream",
     "text": [
      "[100, 2, 3, 1, 3, 4]\n",
      "{1, 2, 3, 100, 4}\n"
     ]
    }
   ],
   "source": [
    "a = [1, 2, 3, 1, 3, 4]\n",
    "b = 'Hello World'\n",
    "c = (1, 2, 3, 1, 3, 4)\n",
    "a[0] = 100\n",
    "print(a)\n",
    "s = set(a)\n",
    "print(s)"
   ]
  },
  {
   "cell_type": "code",
   "execution_count": 15,
   "metadata": {},
   "outputs": [
    {
     "name": "stdout",
     "output_type": "stream",
     "text": [
      "{'Hello': 'xin chao', 'Goodbye': 'tam biet', 'Thank you': 'cam on', 'Sorry': 'xin loi'}\n"
     ]
    }
   ],
   "source": [
    "# Dictionary is a collection of pairs (key, value)\n",
    "envi_dict = {}\n",
    "envi_dict['Hello'] = 'xin chao'\n",
    "envi_dict['Goodbye'] = 'tam biet'\n",
    "envi_dict['Thank you'] = 'cam on'\n",
    "envi_dict['Sorry'] = 'xin loi'\n",
    "print(envi_dict)"
   ]
  },
  {
   "cell_type": "code",
   "execution_count": 17,
   "metadata": {},
   "outputs": [
    {
     "name": "stdout",
     "output_type": "stream",
     "text": [
      "Hello in Vietnamese is xin chao\n"
     ]
    }
   ],
   "source": [
    "en_word = input('Enter an English word: ')\n",
    "if en_word in envi_dict:\n",
    "    print(f'{en_word} in Vietnamese is {envi_dict[en_word]}')\n",
    "else:\n",
    "    print(f'{en_word} is not in the dictionary')"
   ]
  },
  {
   "cell_type": "code",
   "execution_count": 19,
   "metadata": {},
   "outputs": [
    {
     "name": "stdout",
     "output_type": "stream",
     "text": [
      "Added Stupid to the dictionary\n",
      "{'Hello': 'xin chao', 'Goodbye': 'tam biet', 'Thank you': 'cam on', 'Sorry': 'xin loi', 'Stupid': 'Ngu'}\n"
     ]
    }
   ],
   "source": [
    "en_word = input('Enter an English word: ')\n",
    "vi_word = input('Enter a translation in Vietnamese word: ')\n",
    "if en_word in envi_dict:\n",
    "    print(f'{en_word} is already in the dictionary')\n",
    "else:\n",
    "    envi_dict[en_word] = vi_word\n",
    "    print(f'Added {en_word} to the dictionary')\n",
    "    print(envi_dict)"
   ]
  },
  {
   "cell_type": "code",
   "execution_count": 20,
   "metadata": {},
   "outputs": [
    {
     "name": "stdout",
     "output_type": "stream",
     "text": [
      "Suck is not in the dictionary\n"
     ]
    }
   ],
   "source": [
    "en_word = input('Enter an English word: ')\n",
    "vn_word = input('Enter a translation in Vietnamese word: ')\n",
    "if en_word not in envi_dict:\n",
    "    print(f'{en_word} is not in the dictionary')\n",
    "else:\n",
    "    envi_dict[en_word] = vn_word\n",
    "    print(f'Updatedd {en_word} to the dictionary')\n",
    "    print(envi_dict)"
   ]
  },
  {
   "cell_type": "code",
   "execution_count": 22,
   "metadata": {},
   "outputs": [
    {
     "name": "stdout",
     "output_type": "stream",
     "text": [
      "Stupid is removed\n",
      "{'Hello': 'xin chao', 'Goodbye': 'tam biet', 'Thank you': 'cam on', 'Sorry': 'xin loi'}\n"
     ]
    }
   ],
   "source": [
    "en_word = input('Enter a current English world to delete: ')\n",
    "if en_word not in envi_dict:\n",
    "    print(f'{en_word} is not in the dictionary')\n",
    "else:\n",
    "    envi_dict.pop(en_word)\n",
    "    print(f'{en_word} is removed')\n",
    "    print(envi_dict)"
   ]
  }
 ],
 "metadata": {
  "kernelspec": {
   "display_name": "Python 3",
   "language": "python",
   "name": "python3"
  },
  "language_info": {
   "codemirror_mode": {
    "name": "ipython",
    "version": 3
   },
   "file_extension": ".py",
   "mimetype": "text/x-python",
   "name": "python",
   "nbconvert_exporter": "python",
   "pygments_lexer": "ipython3",
   "version": "3.11.5"
  }
 },
 "nbformat": 4,
 "nbformat_minor": 2
}
