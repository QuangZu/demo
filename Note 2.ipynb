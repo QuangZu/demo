{
 "cells": [
  {
   "cell_type": "code",
   "execution_count": 1,
   "metadata": {},
   "outputs": [
    {
     "name": "stdout",
     "output_type": "stream",
     "text": [
      "10\n",
      "20\n",
      "100\n",
      "200\n",
      "10\n",
      "200\n",
      "Hello\n",
      "World\n"
     ]
    }
   ],
   "source": [
    "def my_funct(a, b):\n",
    "    print(a)\n",
    "    print(b)\n",
    "\n",
    "my_funct(10, 20)\n",
    "x = 100\n",
    "y = 200\n",
    "my_funct(x, y)\n",
    "my_funct(10, y)\n",
    "a = 'Hello'\n",
    "b = 'World'\n",
    "my_funct(a, b)"
   ]
  },
  {
   "cell_type": "code",
   "execution_count": 2,
   "metadata": {},
   "outputs": [
    {
     "name": "stdout",
     "output_type": "stream",
     "text": [
      "a = 20, b = 10\n",
      "a = 10, b = 20\n"
     ]
    }
   ],
   "source": [
    "def swap(a, b):\n",
    "    t = a \n",
    "    a = b\n",
    "    b = t\n",
    "    print(f'a = {a}, b = {b}')\n",
    "a = 10\n",
    "b = 20\n",
    "swap(a, b)\n",
    "print(f'a = {a}, b = {b}')"
   ]
  },
  {
   "cell_type": "code",
   "execution_count": 4,
   "metadata": {},
   "outputs": [
    {
     "name": "stdout",
     "output_type": "stream",
     "text": [
      "a = 1, b = 20\n"
     ]
    }
   ],
   "source": [
    "a = 10\n",
    "b = 20\n",
    "def my_func():\n",
    "    a = 1\n",
    "    print(f'a = {a}, b = {b}')\n",
    "my_func()"
   ]
  },
  {
   "cell_type": "code",
   "execution_count": 9,
   "metadata": {},
   "outputs": [
    {
     "name": "stdout",
     "output_type": "stream",
     "text": [
      "a = 10, b = 20, c = hello, d = world\n",
      "a = 10, b = 20, c = goodbye, d = world\n",
      "a = 10, b = 20, c = world, d = hello\n",
      "a = 10, b = 20, c = world, d = hello\n"
     ]
    },
    {
     "ename": "TypeError",
     "evalue": "my_func() got an unexpected keyword argument 'x'",
     "output_type": "error",
     "traceback": [
      "\u001b[1;31m---------------------------------------------------------------------------\u001b[0m",
      "\u001b[1;31mTypeError\u001b[0m                                 Traceback (most recent call last)",
      "\u001b[1;32mc:\\Users\\PC\\Desktop\\Python HW\\Note 2.ipynb Cell 4\u001b[0m line \u001b[0;36m7\n\u001b[0;32m      <a href='vscode-notebook-cell:/c%3A/Users/PC/Desktop/Python%20HW/Note%202.ipynb#W3sZmlsZQ%3D%3D?line=4'>5</a>\u001b[0m my_func(\u001b[39m10\u001b[39m, \u001b[39m20\u001b[39m, \u001b[39m'\u001b[39m\u001b[39mworld\u001b[39m\u001b[39m'\u001b[39m, \u001b[39m'\u001b[39m\u001b[39mhello\u001b[39m\u001b[39m'\u001b[39m)\n\u001b[0;32m      <a href='vscode-notebook-cell:/c%3A/Users/PC/Desktop/Python%20HW/Note%202.ipynb#W3sZmlsZQ%3D%3D?line=5'>6</a>\u001b[0m my_func(\u001b[39m10\u001b[39m, \u001b[39m20\u001b[39m, d \u001b[39m=\u001b[39m\u001b[39m'\u001b[39m\u001b[39mhello\u001b[39m\u001b[39m'\u001b[39m, c \u001b[39m=\u001b[39m \u001b[39m'\u001b[39m\u001b[39mworld\u001b[39m\u001b[39m'\u001b[39m)\n\u001b[1;32m----> <a href='vscode-notebook-cell:/c%3A/Users/PC/Desktop/Python%20HW/Note%202.ipynb#W3sZmlsZQ%3D%3D?line=6'>7</a>\u001b[0m my_func(x \u001b[39m=\u001b[39;49m \u001b[39m10\u001b[39;49m, d \u001b[39m=\u001b[39;49m \u001b[39m20\u001b[39;49m, a \u001b[39m=\u001b[39;49m \u001b[39m'\u001b[39;49m\u001b[39mworld\u001b[39;49m\u001b[39m'\u001b[39;49m, b \u001b[39m=\u001b[39;49m \u001b[39m'\u001b[39;49m\u001b[39mhello\u001b[39;49m\u001b[39m'\u001b[39;49m) \n\u001b[0;32m      <a href='vscode-notebook-cell:/c%3A/Users/PC/Desktop/Python%20HW/Note%202.ipynb#W3sZmlsZQ%3D%3D?line=7'>8</a>\u001b[0m \u001b[39m# Fai gán giá trị trc chữ\u001b[39;00m\n",
      "\u001b[1;31mTypeError\u001b[0m: my_func() got an unexpected keyword argument 'x'"
     ]
    }
   ],
   "source": [
    "def my_func(a, b, c = 'hello', d = 'world'):\n",
    "    print(f'a = {a}, b = {b}, c = {c}, d = {d}')\n",
    "my_func(10, 20)\n",
    "my_func(10, 20, 'goodbye')\n",
    "my_func(10, 20, 'world', 'hello')\n",
    "my_func(10, 20, d ='hello', c = 'world')\n",
    "my_func(c = 10, d = 20, a = 'world', b = 'hello') \n",
    "# Fai gán giá trị trc chữ"
   ]
  },
  {
   "cell_type": "code",
   "execution_count": 16,
   "metadata": {},
   "outputs": [
    {
     "name": "stdout",
     "output_type": "stream",
     "text": [
      "[]\n",
      "[1]\n",
      "['hello', 'python', 'world']\n"
     ]
    }
   ],
   "source": [
    "a = []\n",
    "b = [1]\n",
    "c = ['hello', 'python', 'world']\n",
    "print(a, b, c, sep = '\\n')"
   ]
  },
  {
   "cell_type": "code",
   "execution_count": 17,
   "metadata": {},
   "outputs": [
    {
     "name": "stdout",
     "output_type": "stream",
     "text": [
      "[31, 71, 27, 56, 70, 38, 59, 84, 11, 45]\n",
      "71\n",
      "45\n"
     ]
    }
   ],
   "source": [
    "import random as rd \n",
    "numbers = rd.sample(range(10, 100), 10) # generate 10 random numbers from 10 to 99\n",
    "print(numbers)\n",
    "print(numbers[1])\n",
    "print(numbers[9])"
   ]
  },
  {
   "cell_type": "code",
   "execution_count": 19,
   "metadata": {},
   "outputs": [
    {
     "name": "stdout",
     "output_type": "stream",
     "text": [
      "5\n"
     ]
    }
   ],
   "source": [
    "a = [1, 2.5, 'hello', True, [1, 2, 3]]\n",
    "print(len(a))"
   ]
  },
  {
   "cell_type": "code",
   "execution_count": 25,
   "metadata": {},
   "outputs": [
    {
     "name": "stdout",
     "output_type": "stream",
     "text": [
      "[None, None, None, None, None, None, None, None, None, None]\n",
      "['hello', 10, 'a', None, None, None, None, None, None, None]\n"
     ]
    }
   ],
   "source": [
    "a = [None] * 10\n",
    "print(a)\n",
    "a[0] = 'hello'\n",
    "a[1] = 10\n",
    "a[2] = input('Enter something')\n",
    "print(a)"
   ]
  },
  {
   "cell_type": "code",
   "execution_count": 28,
   "metadata": {},
   "outputs": [
    {
     "name": "stdout",
     "output_type": "stream",
     "text": [
      "[1, 2, 3, 'hello', 'python']\n",
      "[1, 2, 3, 1, 2, 3, 1, 2, 3]\n",
      "[31, 71, 27, 56, 70, 38, 59, 84, 11, 45]\n",
      "78 is not in the list\n"
     ]
    }
   ],
   "source": [
    "a = [1, 2, 3]\n",
    "b = ['hello', 'python']\n",
    "c = a + b\n",
    "print(c)\n",
    "d = a * 3\n",
    "print(d)\n",
    "print(numbers)\n",
    "n = int(input('Enter a number: '))\n",
    "if n in numbers:\n",
    "    print(n, 'is in the list')\n",
    "else:\n",
    "    print(n, 'is not in the list')"
   ]
  },
  {
   "cell_type": "code",
   "execution_count": 34,
   "metadata": {},
   "outputs": [
    {
     "name": "stdout",
     "output_type": "stream",
     "text": [
      "[31, 71, 27, 56, 70, 38, 59, 84, 11, 45]\n",
      "31 71 27 56 70 38 59 84 11 45 \n",
      "31 71 27 56 70 38 59 84 11 45 "
     ]
    }
   ],
   "source": [
    "print(numbers)\n",
    "for n in numbers:\n",
    "    print(n, end=' ')\n",
    "print()\n",
    "\n",
    "for i in range(len(numbers)):\n",
    "    print(numbers[i], end=' ')"
   ]
  },
  {
   "cell_type": "code",
   "execution_count": 36,
   "metadata": {},
   "outputs": [
    {
     "name": "stdout",
     "output_type": "stream",
     "text": [
      "56 70 38 84 "
     ]
    }
   ],
   "source": [
    "for n in numbers:\n",
    "    if n % 2 == 0:\n",
    "        print(n, end=' ')"
   ]
  },
  {
   "cell_type": "code",
   "execution_count": 46,
   "metadata": {},
   "outputs": [
    {
     "name": "stdout",
     "output_type": "stream",
     "text": [
      "31 71 27 59 11 45 "
     ]
    }
   ],
   "source": [
    "for i in range(len(numbers)):\n",
    "    if numbers[i] % 2 != 0:\n",
    "        print(numbers[i], end=' ')"
   ]
  },
  {
   "cell_type": "code",
   "execution_count": 52,
   "metadata": {},
   "outputs": [
    {
     "name": "stdout",
     "output_type": "stream",
     "text": [
      "pen: 5000 VND\n",
      "pencil: 7000 VND\n",
      "book: 25000 VND\n",
      "ruler: 8000 VND\n",
      "eraser: 3000 VND\n",
      "sharpener: 10000 VND\n"
     ]
    }
   ],
   "source": [
    "products = ['pen', 'pencil', 'book', 'ruler', 'eraser', 'sharpener']\n",
    "prices = [5000, 7000, 25000, 8000, 3000, 10000]\n",
    "for i in range(len(products)):\n",
    "    print(f'{products[i]}: {prices[i]} VND')"
   ]
  },
  {
   "cell_type": "code",
   "execution_count": 53,
   "metadata": {},
   "outputs": [
    {
     "name": "stdout",
     "output_type": "stream",
     "text": [
      "pencil: 7000 VND\n",
      "book: 25000 VND\n",
      "ruler: 8000 VND\n",
      "sharpener: 10000 VND\n"
     ]
    }
   ],
   "source": [
    "products = ['pen', 'pencil', 'book', 'ruler', 'eraser', 'sharpener']\n",
    "prices = [5000, 7000, 25000, 8000, 3000, 10000]\n",
    "for i in range(len(products)):\n",
    "    if prices[i] > 5000:\n",
    "        print(f'{products[i]}: {prices[i]} VND')"
   ]
  },
  {
   "cell_type": "code",
   "execution_count": 55,
   "metadata": {},
   "outputs": [
    {
     "name": "stdout",
     "output_type": "stream",
     "text": [
      "[31, 71, 27, 56, 70, 38, 59, 84, 11, 45]\n",
      "31 is in the list\n"
     ]
    }
   ],
   "source": [
    "found = False\n",
    "print(numbers)\n",
    "n = int(input('Enter n: '))\n",
    "for i in range(len(numbers)):\n",
    "    if numbers[i] == n:\n",
    "        found = True\n",
    "        break\n",
    "if found:\n",
    "    print(f'{n} is in the list')\n",
    "else:\n",
    "    print(f'{n} is not in the list')"
   ]
  },
  {
   "cell_type": "code",
   "execution_count": 59,
   "metadata": {},
   "outputs": [
    {
     "name": "stdout",
     "output_type": "stream",
     "text": [
      "71 is in the list at position 1\n"
     ]
    }
   ],
   "source": [
    "found_pos = -1\n",
    "n = int(input('Enter n: '))\n",
    "for i in range(len(numbers)):\n",
    "    if numbers[i] == n:\n",
    "        found_pos = i\n",
    "        break\n",
    "if found_pos == -1:\n",
    "    print(f'{n} is not in the list')\n",
    "else:\n",
    "    print(f'{n} is in the list at position {found_pos}')"
   ]
  },
  {
   "cell_type": "code",
   "execution_count": 65,
   "metadata": {},
   "outputs": [
    {
     "name": "stdout",
     "output_type": "stream",
     "text": [
      "['pen', 'pencil', 'book', 'ruler', 'eraser', 'sharpener']\n",
      "[5000, 7000, 25000, 8000, 3000, 10000]\n",
      "Price of pencil is 7000 VND\n"
     ]
    }
   ],
   "source": [
    "print(products)\n",
    "print(prices)\n",
    "found_pos = -1\n",
    "n = (input('Enter the product: '))\n",
    "for i in range(len(products)):\n",
    "    if products[i] == n:\n",
    "        found_pos = i\n",
    "        break\n",
    "if found_pos == -1:\n",
    "    print('Invalid')\n",
    "else:\n",
    "    print(f'Price of {products[i]} is {prices[found_pos]} VND')"
   ]
  },
  {
   "cell_type": "code",
   "execution_count": 69,
   "metadata": {},
   "outputs": [
    {
     "name": "stdout",
     "output_type": "stream",
     "text": [
      "John, GCH1600: 8.5\n"
     ]
    }
   ],
   "source": [
    "ids = ['GCH1600', 'GCH1601', 'GCH1602', 'GCH1603', 'GCH1604']\n",
    "names = ['John', 'Peter', 'Mary', 'Jane', 'Tom']\n",
    "grades = [8.5, 7.5, 9.0, 8.0, 7.0]\n",
    "found_pos = -1\n",
    "id = (input('Enter id: '))\n",
    "for i in range(len(ids)):\n",
    "    if ids[i] == id:\n",
    "        found_pos = i\n",
    "        break\n",
    "if found_pos == -1:\n",
    "    print('Invalid')\n",
    "else:\n",
    "    print(f'{names[found_pos]}, {ids[i]}: {grades[found_pos]}')"
   ]
  },
  {
   "cell_type": "code",
   "execution_count": 1,
   "metadata": {},
   "outputs": [
    {
     "ename": "NameError",
     "evalue": "name 'numbers' is not defined",
     "output_type": "error",
     "traceback": [
      "\u001b[1;31m---------------------------------------------------------------------------\u001b[0m",
      "\u001b[1;31mNameError\u001b[0m                                 Traceback (most recent call last)",
      "\u001b[1;32mc:\\Users\\PC\\Desktop\\Python HW\\Note 2.ipynb Cell 19\u001b[0m line \u001b[0;36m1\n\u001b[1;32m----> <a href='vscode-notebook-cell:/c%3A/Users/PC/Desktop/Python%20HW/Note%202.ipynb#X24sZmlsZQ%3D%3D?line=0'>1</a>\u001b[0m m \u001b[39m=\u001b[39m numbers[\u001b[39m0\u001b[39m]\n\u001b[0;32m      <a href='vscode-notebook-cell:/c%3A/Users/PC/Desktop/Python%20HW/Note%202.ipynb#X24sZmlsZQ%3D%3D?line=1'>2</a>\u001b[0m \u001b[39mfor\u001b[39;00m i \u001b[39min\u001b[39;00m \u001b[39mrange\u001b[39m(\u001b[39m1\u001b[39m, \u001b[39mlen\u001b[39m(numbers)):\n\u001b[0;32m      <a href='vscode-notebook-cell:/c%3A/Users/PC/Desktop/Python%20HW/Note%202.ipynb#X24sZmlsZQ%3D%3D?line=2'>3</a>\u001b[0m     \u001b[39mif\u001b[39;00m numbers[i] \u001b[39m>\u001b[39m m:\n",
      "\u001b[1;31mNameError\u001b[0m: name 'numbers' is not defined"
     ]
    }
   ],
   "source": [
    "m = numbers[0]\n",
    "for i in range(1, len(numbers)):\n",
    "    if numbers[i] > m:\n",
    "        m = numbers[i]"
   ]
  },
  {
   "cell_type": "code",
   "execution_count": 71,
   "metadata": {},
   "outputs": [
    {
     "name": "stdout",
     "output_type": "stream",
     "text": [
      "[31, 71, 27, 56, 70, 38, 59, 84, 11, 45]\n",
      "Max = 84 at position 7\n"
     ]
    }
   ],
   "source": [
    "m = numbers[0]\n",
    "max_pos = 0\n",
    "for i in range(1, len(numbers)):\n",
    "    if numbers[i] > m:\n",
    "        m = numbers[i]\n",
    "        max_pos = i\n",
    "print(numbers)\n",
    "print(f'Max = {m} at position {max_pos}')"
   ]
  },
  {
   "cell_type": "code",
   "execution_count": 75,
   "metadata": {},
   "outputs": [
    {
     "name": "stdout",
     "output_type": "stream",
     "text": [
      "['pen', 'pencil', 'book', 'ruler', 'eraser', 'sharpener']\n",
      "[5000, 7000, 25000, 8000, 3000, 10000]\n",
      "[5000, 7000, 25000, 8000, 3000, 10000]\n",
      "The most expensive item is book: 25000\n"
     ]
    }
   ],
   "source": [
    "print(products)\n",
    "print(prices)\n",
    "m = prices[0]\n",
    "max_pos = 0\n",
    "for i in range(1, len(prices)):\n",
    "    if prices[i] > m:\n",
    "        m = prices[i]\n",
    "        max_pos = i\n",
    "print(f'The most expensive item is {products[max_pos]}: {prices[max_pos]}')"
   ]
  },
  {
   "cell_type": "code",
   "execution_count": 76,
   "metadata": {},
   "outputs": [
    {
     "name": "stdout",
     "output_type": "stream",
     "text": [
      "['GCH1600', 'GCH1601', 'GCH1602', 'GCH1603', 'GCH1604']\n",
      "['John', 'Peter', 'Mary', 'Jane', 'Tom']\n",
      "[8.5, 7.5, 9.0, 8.0, 7.0]\n",
      "Student with the lowest grade is Tom, GCH1604: 7.0\n"
     ]
    }
   ],
   "source": [
    "print(ids)\n",
    "print(names)\n",
    "print(grades)\n",
    "m = grades[0]\n",
    "max_pos = 0\n",
    "for i in range(1, len(grades)):\n",
    "    if grades[i] > m:\n",
    "        m = grades[i]\n",
    "        max_pos = i\n",
    "print(f'Student with the lowest grade is {names[max_pos]}, {ids[max_pos]}: {grades[max_pos]}')"
   ]
  },
  {
   "cell_type": "code",
   "execution_count": 77,
   "metadata": {},
   "outputs": [
    {
     "name": "stdout",
     "output_type": "stream",
     "text": [
      "[31, 71, 27, 56, 70, 38, 59, 84, 11, 45]\n",
      "Sum = 492\n"
     ]
    }
   ],
   "source": [
    "print(numbers)\n",
    "s = 0\n",
    "for n in numbers:\n",
    "    s += n\n",
    "print(f'Sum = {s}')"
   ]
  },
  {
   "cell_type": "code",
   "execution_count": 81,
   "metadata": {},
   "outputs": [
    {
     "name": "stdout",
     "output_type": "stream",
     "text": [
      "[5000, 7000, 25000, 8000, 3000, 10000]\n",
      "9666.67\n"
     ]
    }
   ],
   "source": [
    "print(prices)\n",
    "s = 0\n",
    "for n in prices:\n",
    "    s += n\n",
    "avg = s / len(prices)\n",
    "print(f'{avg:.2f}')"
   ]
  },
  {
   "cell_type": "code",
   "execution_count": 82,
   "metadata": {},
   "outputs": [
    {
     "name": "stdout",
     "output_type": "stream",
     "text": [
      "[31, 71, 27, 56, 70, 38, 59, 84, 11, 45]\n",
      "Number of even numbers = 6\n"
     ]
    }
   ],
   "source": [
    "print(numbers)\n",
    "count = 0\n",
    "for n in prices:\n",
    "  if n % 2 ==0:\n",
    "    count += 1\n",
    "print(f'Number of even numbers = {count}')"
   ]
  },
  {
   "cell_type": "code",
   "execution_count": 2,
   "metadata": {},
   "outputs": [
    {
     "ename": "NameError",
     "evalue": "name 'prices' is not defined",
     "output_type": "error",
     "traceback": [
      "\u001b[1;31m---------------------------------------------------------------------------\u001b[0m",
      "\u001b[1;31mNameError\u001b[0m                                 Traceback (most recent call last)",
      "\u001b[1;32mc:\\Users\\PC\\Desktop\\Python HW\\Note 2.ipynb Cell 26\u001b[0m line \u001b[0;36m1\n\u001b[1;32m----> <a href='vscode-notebook-cell:/c%3A/Users/PC/Desktop/Python%20HW/Note%202.ipynb#X34sZmlsZQ%3D%3D?line=0'>1</a>\u001b[0m \u001b[39mprint\u001b[39m(prices)\n\u001b[0;32m      <a href='vscode-notebook-cell:/c%3A/Users/PC/Desktop/Python%20HW/Note%202.ipynb#X34sZmlsZQ%3D%3D?line=1'>2</a>\u001b[0m \u001b[39mprint\u001b[39m(products)\n\u001b[0;32m      <a href='vscode-notebook-cell:/c%3A/Users/PC/Desktop/Python%20HW/Note%202.ipynb#X34sZmlsZQ%3D%3D?line=2'>3</a>\u001b[0m count \u001b[39m=\u001b[39m \u001b[39m0\u001b[39m\n",
      "\u001b[1;31mNameError\u001b[0m: name 'prices' is not defined"
     ]
    }
   ],
   "source": [
    "print(prices)\n",
    "print(products)\n",
    "count = 0\n",
    "for n in prices:\n",
    "  if n > 5000:\n",
    "    count += 1\n",
    "print(f'Number of products has price > 5000: {count}')"
   ]
  },
  {
   "cell_type": "code",
   "execution_count": 88,
   "metadata": {},
   "outputs": [
    {
     "name": "stdout",
     "output_type": "stream",
     "text": [
      "[8.5, 7.5, 9.0, 8.0, 7.0]\n",
      "Average grade is: 8.0\n",
      "Number of students that has grade above average grade: 2\n"
     ]
    }
   ],
   "source": [
    "print(grades)\n",
    "count = 0\n",
    "s = 0\n",
    "for n in grades:\n",
    "  s += n\n",
    "\n",
    "avg = s / len(grades)\n",
    "for n in grades:\n",
    "  if n > avg:\n",
    "    count += 1\n",
    "print(f'Average grade is: {avg}')\n",
    "print(f'Number of students that has grade above average grade: {count}')"
   ]
  }
 ],
 "metadata": {
  "kernelspec": {
   "display_name": "Python 3",
   "language": "python",
   "name": "python3"
  },
  "language_info": {
   "codemirror_mode": {
    "name": "ipython",
    "version": 3
   },
   "file_extension": ".py",
   "mimetype": "text/x-python",
   "name": "python",
   "nbconvert_exporter": "python",
   "pygments_lexer": "ipython3",
   "version": "3.11.5"
  }
 },
 "nbformat": 4,
 "nbformat_minor": 2
}
